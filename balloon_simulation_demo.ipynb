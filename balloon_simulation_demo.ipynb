{
 "cells": [
  {
   "cell_type": "code",
   "execution_count": null,
   "metadata": {},
   "outputs": [],
   "source": [
    "# Clone the repository\n",
    "!git clone https://github.com/sdean-group/balloon-outreach.git\n",
    "%cd balloon-outreach\n",
    "\n",
    "# Install required packages\n",
    "!pip install -r requirements.txt\n",
    "!pip install -U gdown\n",
    "\n",
    "# Download ERA5 data\n",
    "import gdown\n",
    "file_id = \"1Y5ocrCH0TVf9ZDkVGaJ03ftUrtKEVxIf\"\n",
    "url = f\"https://drive.google.com/uc?id={file_id}\"\n",
    "output = \"era5_data.nc\"\n",
    "gdown.download(url, output, quiet=False)"
   ]
  },
  {
   "cell_type": "code",
   "execution_count": null,
   "metadata": {},
   "outputs": [],
   "source": [
    "# Transient: Run pipeline with visualizations\n",
    "from main import run_episode\n",
    "from env.balloon_environment import BalloonEnvironment\n",
    "from agent.random_agent import RandomAgent\n",
    "\n",
    "env = BalloonEnvironment()\n",
    "agent = RandomAgent()\n",
    "run_episode(env, agent)"
   ]
  },
  {
   "cell_type": "code",
   "execution_count": null,
   "metadata": {
    "vscode": {
     "languageId": "plaintext"
    }
   },
   "outputs": [],
   "source": []
  }
 ],
 "metadata": {
  "language_info": {
   "name": "python"
  }
 },
 "nbformat": 4,
 "nbformat_minor": 2
}
