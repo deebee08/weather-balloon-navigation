{
  "cells": [
    {
      "cell_type": "markdown",
      "metadata": {},
      "source": [
        "A* Tree Planner Demo Notebook"
      ]
    },
    {
      "cell_type": "code",
      "execution_count": null,
      "metadata": {
        "id": "NxEGfYbeI8qO"
      },
      "outputs": [],
      "source": [
        "# ============================================================================\n",
        "# CELL 1: Imports\n",
        "# ============================================================================\n",
        "\n",
        "import numpy as np\n",
        "import matplotlib.pyplot as plt\n",
        "import xarray as xr\n",
        "import datetime as dt\n",
        "\n",
        "from env.balloon_env import BalloonERAEnvironment\n",
        "from agent.tree_search_agent import run_astar\n",
        "\n",
        "# For visualization\n",
        "plt.style.use('default')\n",
        "plt.rcParams['figure.figsize'] = (12, 8)"
      ]
    },
    {
      "cell_type": "code",
      "execution_count": null,
      "metadata": {
        "id": "UDAPLrhhJpLY"
      },
      "outputs": [],
      "source": [
        "# ============================================================================\n",
        "# CELL 2: Demo Setup\n",
        "# ============================================================================\n",
        "\n",
        "# Demo Setup\n",
        "np.random.seed(0)  # For reproducible results\n",
        "\n",
        "# Define start and target states\n",
        "start_state = np.array([0.0, 0.0, 10.0])  # lat, lon, alt\n",
        "target_state = np.array([0.060, 2.25, 10.0])  # lat, lon, alt\n",
        "\n",
        "print(f\"Start State:  Lat={start_state[0]:.3f}, Lon={start_state[1]:.3f}, Alt={start_state[2]:.1f} km\")\n",
        "print(f\"Target State: Lat={target_state[0]:.3f}, Lon={target_state[1]:.3f}, Alt={target_state[2]:.1f} km\")\n",
        "\n",
        "# BalloonERAEnvironment initialization \n",
        "# 1. load your ERA5 file\n",
        "ds = xr.open_dataset(\"era5_data.nc\", engine=\"netcdf4\")\n",
        "# 2. pick a reference start_time (should match your dataset’s first valid_time)\n",
        "start_time = dt.datetime(2024, 7, 1, 0, 0)\n",
        "# Create environment and agent\n",
        "env = BalloonERAEnvironment(ds=ds, start_time=start_time, viz=False)\n"
      ]
    },
    {
      "cell_type": "code",
      "execution_count": null,
      "metadata": {
        "id": "uW5GKidiJzZZ"
      },
      "outputs": [],
      "source": [
        "# ============================================================================\n",
        "# CELL 9: Tree Search Demo\n",
        "# ============================================================================\n",
        "\n",
        "# Tree Search Demo\n",
        "print(\"=== Tree Search (A*) Demo ===\")\n",
        "\n",
        "# Find optimal path\n",
        "print(\"Searching for optimal path...\")\n",
        "optimal_path = run_astar(env, initial_lat=start_state[0], initial_long=start_state[1], initial_alt=start_state[2],\n",
        "            target_lat=target_state[0], target_lon=target_state[1], target_alt=target_state[2],\n",
        "            distance='haversine', heuristic='haversine',\n",
        "            plot_suffix=\"test_era_notebook\")\n",
        "\n",
        "if optimal_path:\n",
        "    print(f\"Found path with {len(optimal_path)} steps\")\n",
        "    print(\"Path:\")\n",
        "    for i, state in enumerate(optimal_path):\n",
        "        print(f\"  Step {i}: Lat={state[0]:.3f}, Lon={state[1]:.3f}, Alt={state[2]:.1f} km\")\n",
        "else:\n",
        "    print(\"No path found within iteration limit\")"
      ]
    }
  ],
  "metadata": {
    "colab": {
      "provenance": []
    },
    "kernelspec": {
      "display_name": "Python 3",
      "name": "python3"
    },
    "language_info": {
      "name": "python"
    }
  },
  "nbformat": 4,
  "nbformat_minor": 0
}
